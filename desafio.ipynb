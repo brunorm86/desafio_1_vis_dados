{
 "cells": [
  {
   "metadata": {},
   "cell_type": "markdown",
   "source": "# Desafio 1",
   "id": "f3c51767321fd8b7"
  },
  {
   "metadata": {},
   "cell_type": "markdown",
   "source": [
    "Conforme definido em sala, os alunos deverão realizar o seguinte desafio pontuado:\n",
    "\n",
    "- Escolher uma base de dados na área de saúde, educação, segurança pública ou gestão. OBS: o tema dos alunos que faltaram é GESTÃO;\n",
    "- Criar e enviar o modelo conceitual de Banco de dados;\n",
    "- Criar o modelo lógico e físico de Banco de Dados;\n",
    "- Criar o Schema e persistir no Banco de Dados;\n",
    "- Escolher o dataset, o mesmo deve ser tratado e poderá ter em torno de 1000 linhas (você pode abrir no excel fazer a exclusão de linhas e colunas para ele ficar menor);\n",
    "- Persistir os dados no banco de dados;\n",
    "- Fazer todo o processo de CRUD utilizando python;\n",
    "- Gerar 3 gráficos relacionados ao dataset.\n",
    "Você deve enviar o dataset tratado, o modelo conceitual, o schema do banco, o arquivo python."
   ],
   "id": "eefa3b45356df85b"
  },
  {
   "metadata": {
    "ExecuteTime": {
     "end_time": "2025-05-16T19:13:48.413710Z",
     "start_time": "2025-05-16T19:13:48.408537Z"
    }
   },
   "cell_type": "code",
   "source": [
    "import pandas as pd\n",
    "import matplotlib.pyplot as plt\n",
    "from sqlalchemy import create_engine, inspect, text"
   ],
   "id": "93e918f23ac94e51",
   "outputs": [],
   "execution_count": 5
  },
  {
   "metadata": {
    "ExecuteTime": {
     "end_time": "2025-05-16T19:15:24.789870Z",
     "start_time": "2025-05-16T19:15:21.839416Z"
    }
   },
   "cell_type": "code",
   "source": [
    "# Dados do banco\n",
    "\n",
    "user = \"ufrkpl872bmu15\"\n",
    "password = \"pfc2f800f1a232ad1055c52d4cbc53018d57166e9190b5215ce20c656fd97ed3b\"\n",
    "host = \"cbec45869p4jbu.cluster-czrs8kj4isg7.us-east-1.rds.amazonaws.com\"\n",
    "port = \"5432\"\n",
    "database = \"d487kabe2ju107\"\n",
    "\n",
    "# String de conexão\n",
    "DATABASE_URL = f\"postgresql://{user}:{password}@{host}:{port}/{database}\"\n",
    "\n",
    "# Criação do engine\n",
    "engine = create_engine(DATABASE_URL)\n",
    "\n",
    "# Testar conexão (opcional)\n",
    "with engine.connect() as connection:\n",
    "    result = connection.execute(text(\"SELECT 1\"))  # <-- corrigido aqui\n",
    "    print(result.scalar())"
   ],
   "id": "65428a74d43cb39",
   "outputs": [
    {
     "name": "stdout",
     "output_type": "stream",
     "text": [
      "1\n"
     ]
    }
   ],
   "execution_count": 8
  },
  {
   "metadata": {},
   "cell_type": "code",
   "outputs": [],
   "execution_count": null,
   "source": "",
   "id": "3c79e79f45bb108d"
  }
 ],
 "metadata": {
  "kernelspec": {
   "display_name": "Python 3",
   "language": "python",
   "name": "python3"
  },
  "language_info": {
   "codemirror_mode": {
    "name": "ipython",
    "version": 2
   },
   "file_extension": ".py",
   "mimetype": "text/x-python",
   "name": "python",
   "nbconvert_exporter": "python",
   "pygments_lexer": "ipython2",
   "version": "2.7.6"
  }
 },
 "nbformat": 4,
 "nbformat_minor": 5
}
