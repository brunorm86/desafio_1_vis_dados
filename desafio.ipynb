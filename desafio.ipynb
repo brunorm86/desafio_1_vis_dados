{
 "cells": [
  {
   "metadata": {},
   "cell_type": "markdown",
   "source": "# Desafio 1",
   "id": "f3c51767321fd8b7"
  },
  {
   "metadata": {},
   "cell_type": "markdown",
   "source": [
    "Conforme definido em sala, os alunos deverão realizar o seguinte desafio pontuado:\n",
    "\n",
    "- Escolher uma base de dados na área de saúde, educação, segurança pública ou gestão. OBS: o tema dos alunos que faltaram é GESTÃO;\n",
    "- Criar e enviar o modelo conceitual de Banco de dados;\n",
    "- Criar o modelo lógico e físico de Banco de Dados;\n",
    "- Criar o Schema e persistir no Banco de Dados;\n",
    "- Escolher o dataset, o mesmo deve ser tratado e poderá ter em torno de 1000 linhas (você pode abrir no excel fazer a exclusão de linhas e colunas para ele ficar menor);\n",
    "- Persistir os dados no banco de dados;\n",
    "- Fazer todo o processo de CRUD utilizando python;\n",
    "- Gerar 3 gráficos relacionados ao dataset.\n",
    "Você deve enviar o dataset tratado, o modelo conceitual, o schema do banco, o arquivo python."
   ],
   "id": "eefa3b45356df85b"
  },
  {
   "metadata": {},
   "cell_type": "markdown",
   "source": [
    "Base de dados: Internações hospitalares no Brasil do mês de dezembro/2024. O dataset, originalmente com mais de um milhão de entradas e cem colunas, foi reduzido a 50000 entradas e 11 colunas.\n",
    "\n",
    "https://www.kaggle.com/datasets/andersonfranca/sistema-de-informaes-hospitalares-sus/data\n",
    "\n",
    "Auxiliarmente, foi utilizado também um dataset simples, contendo o código e a descrição das subcategorias do CID10.\n",
    "\n",
    "http://www2.datasus.gov.br/cid10/V2008/descrcsv.htm#:~:text=CID-10-SUBCATEGORIAS.,CID-O-GRUPOS."
   ],
   "id": "7dfd6896550b4381"
  },
  {
   "metadata": {
    "ExecuteTime": {
     "end_time": "2025-05-18T02:04:45.916950Z",
     "start_time": "2025-05-18T02:04:45.872184Z"
    }
   },
   "cell_type": "code",
   "source": [
    "import pandas as pd\n",
    "\n",
    "df = pd.read_csv('data/inter_hosp_br_202412.csv', sep=';')\n",
    "\n",
    "df.shape"
   ],
   "id": "495ed78fa983f707",
   "outputs": [
    {
     "data": {
      "text/plain": [
       "(50000, 12)"
      ]
     },
     "execution_count": 17,
     "metadata": {},
     "output_type": "execute_result"
    }
   ],
   "execution_count": 17
  },
  {
   "metadata": {
    "ExecuteTime": {
     "end_time": "2025-05-18T02:04:47.237917Z",
     "start_time": "2025-05-18T02:04:47.232401Z"
    }
   },
   "cell_type": "code",
   "source": "df.columns",
   "id": "411af9b2e17f4116",
   "outputs": [
    {
     "data": {
      "text/plain": [
       "Index(['NASC', 'SEXO', 'QT_DIARIAS', 'DIAG_PRINC', 'IDADE', 'DIAS_PERM',\n",
       "       'MORTE', 'INSTRU', 'RACA_COR', 'CAR_INT', 'COBRANCA', 'ID'],\n",
       "      dtype='object')"
      ]
     },
     "execution_count": 18,
     "metadata": {},
     "output_type": "execute_result"
    }
   ],
   "execution_count": 18
  },
  {
   "metadata": {
    "ExecuteTime": {
     "end_time": "2025-05-18T02:04:52.821725Z",
     "start_time": "2025-05-18T02:04:52.815931Z"
    }
   },
   "cell_type": "code",
   "source": "df.dtypes",
   "id": "d6e0588b7a4a50c",
   "outputs": [
    {
     "data": {
      "text/plain": [
       "NASC           int64\n",
       "SEXO           int64\n",
       "QT_DIARIAS     int64\n",
       "DIAG_PRINC    object\n",
       "IDADE          int64\n",
       "DIAS_PERM      int64\n",
       "MORTE          int64\n",
       "INSTRU         int64\n",
       "RACA_COR       int64\n",
       "CAR_INT        int64\n",
       "COBRANCA       int64\n",
       "ID             int64\n",
       "dtype: object"
      ]
     },
     "execution_count": 19,
     "metadata": {},
     "output_type": "execute_result"
    }
   ],
   "execution_count": 19
  },
  {
   "metadata": {},
   "cell_type": "markdown",
   "source": [
    "NASC DATA NASCIMENTO NO FORMATO NUMERICO YYYYMMDD\n",
    "\n",
    "----\n",
    "\n",
    "QT_DIARIAS EM DIAS\n",
    "\n",
    "---\n",
    "\n",
    "IDADE: EM ANOS\n",
    "\n",
    "---\n",
    "Sexo\n",
    "1 : Masculino\n",
    "2 : Feminino\n",
    "3 : Feminino\n",
    "0;9 : NA"
   ],
   "id": "de3a76223b566c24"
  },
  {
   "metadata": {
    "ExecuteTime": {
     "end_time": "2025-05-18T02:20:39.210504Z",
     "start_time": "2025-05-18T02:20:39.188832Z"
    }
   },
   "cell_type": "code",
   "source": [
    "df_cid = pd.read_csv('data/CID-10-SUBCATEGORIAS2.csv', encoding='ISO-8859-1')\n",
    "df_cid.head()"
   ],
   "id": "47c4f8b9e82b2196",
   "outputs": [
    {
     "data": {
      "text/plain": [
       "  SUBCAT                           DESCRICAO\n",
       "0   A000  Cólera devida a Vibrio cholerae 01\n",
       "1   A001  Cólera devida a Vibrio cholerae 01\n",
       "2   A009             Cólera não especificada\n",
       "3   A010                       Febre tifóide\n",
       "4   A011                 Febre paratifóide A"
      ],
      "text/html": [
       "<div>\n",
       "<style scoped>\n",
       "    .dataframe tbody tr th:only-of-type {\n",
       "        vertical-align: middle;\n",
       "    }\n",
       "\n",
       "    .dataframe tbody tr th {\n",
       "        vertical-align: top;\n",
       "    }\n",
       "\n",
       "    .dataframe thead th {\n",
       "        text-align: right;\n",
       "    }\n",
       "</style>\n",
       "<table border=\"1\" class=\"dataframe\">\n",
       "  <thead>\n",
       "    <tr style=\"text-align: right;\">\n",
       "      <th></th>\n",
       "      <th>SUBCAT</th>\n",
       "      <th>DESCRICAO</th>\n",
       "    </tr>\n",
       "  </thead>\n",
       "  <tbody>\n",
       "    <tr>\n",
       "      <th>0</th>\n",
       "      <td>A000</td>\n",
       "      <td>Cólera devida a Vibrio cholerae 01</td>\n",
       "    </tr>\n",
       "    <tr>\n",
       "      <th>1</th>\n",
       "      <td>A001</td>\n",
       "      <td>Cólera devida a Vibrio cholerae 01</td>\n",
       "    </tr>\n",
       "    <tr>\n",
       "      <th>2</th>\n",
       "      <td>A009</td>\n",
       "      <td>Cólera não especificada</td>\n",
       "    </tr>\n",
       "    <tr>\n",
       "      <th>3</th>\n",
       "      <td>A010</td>\n",
       "      <td>Febre tifóide</td>\n",
       "    </tr>\n",
       "    <tr>\n",
       "      <th>4</th>\n",
       "      <td>A011</td>\n",
       "      <td>Febre paratifóide A</td>\n",
       "    </tr>\n",
       "  </tbody>\n",
       "</table>\n",
       "</div>"
      ]
     },
     "execution_count": 22,
     "metadata": {},
     "output_type": "execute_result"
    }
   ],
   "execution_count": 22
  },
  {
   "metadata": {},
   "cell_type": "code",
   "outputs": [],
   "execution_count": 14,
   "source": [
    "import matplotlib.pyplot as plt\n",
    "from sqlalchemy import create_engine, inspect, text"
   ],
   "id": "93e918f23ac94e51"
  },
  {
   "metadata": {
    "ExecuteTime": {
     "end_time": "2025-05-18T02:03:06.560056Z",
     "start_time": "2025-05-18T02:03:02.922193Z"
    }
   },
   "cell_type": "code",
   "source": [
    "# Dados do banco\n",
    "\n",
    "user = \"ufrkpl872bmu15\"\n",
    "password = \"pfc2f800f1a232ad1055c52d4cbc53018d57166e9190b5215ce20c656fd97ed3b\"\n",
    "host = \"cbec45869p4jbu.cluster-czrs8kj4isg7.us-east-1.rds.amazonaws.com\"\n",
    "port = \"5432\"\n",
    "database = \"d487kabe2ju107\"\n",
    "\n",
    "# String de conexão\n",
    "DATABASE_URL = f\"postgresql://{user}:{password}@{host}:{port}/{database}\"\n",
    "\n",
    "# Criação do engine\n",
    "engine = create_engine(DATABASE_URL)\n",
    "\n",
    "# Testar conexão (opcional)\n",
    "with engine.connect() as connection:\n",
    "    result = connection.execute(text(\"SELECT 1\"))  # <-- corrigido aqui\n",
    "    print(result.scalar())"
   ],
   "id": "65428a74d43cb39",
   "outputs": [
    {
     "name": "stdout",
     "output_type": "stream",
     "text": [
      "1\n"
     ]
    }
   ],
   "execution_count": 15
  },
  {
   "metadata": {
    "ExecuteTime": {
     "end_time": "2025-05-18T02:03:06.583461Z",
     "start_time": "2025-05-18T02:03:06.580776Z"
    }
   },
   "cell_type": "code",
   "source": "",
   "id": "3c79e79f45bb108d",
   "outputs": [],
   "execution_count": null
  }
 ],
 "metadata": {
  "kernelspec": {
   "display_name": "Python 3",
   "language": "python",
   "name": "python3"
  },
  "language_info": {
   "codemirror_mode": {
    "name": "ipython",
    "version": 2
   },
   "file_extension": ".py",
   "mimetype": "text/x-python",
   "name": "python",
   "nbconvert_exporter": "python",
   "pygments_lexer": "ipython2",
   "version": "2.7.6"
  }
 },
 "nbformat": 4,
 "nbformat_minor": 5
}
